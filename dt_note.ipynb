{
 "cells": [
  {
   "attachments": {},
   "cell_type": "markdown",
   "metadata": {},
   "source": [
    "# Decision Tree From Scratch"
   ]
  },
  {
   "cell_type": "code",
   "execution_count": 1,
   "metadata": {},
   "outputs": [],
   "source": [
    "import pandas as pd\n",
    "import matplotlib.pyplot as plt\n",
    "import seaborn as sns\n",
    "import numpy as np"
   ]
  },
  {
   "attachments": {},
   "cell_type": "markdown",
   "metadata": {},
   "source": [
    "## Decision Tree Regressor"
   ]
  },
  {
   "cell_type": "code",
   "execution_count": 109,
   "metadata": {},
   "outputs": [
    {
     "data": {
      "text/html": [
       "<div>\n",
       "<style scoped>\n",
       "    .dataframe tbody tr th:only-of-type {\n",
       "        vertical-align: middle;\n",
       "    }\n",
       "\n",
       "    .dataframe tbody tr th {\n",
       "        vertical-align: top;\n",
       "    }\n",
       "\n",
       "    .dataframe thead th {\n",
       "        text-align: right;\n",
       "    }\n",
       "</style>\n",
       "<table border=\"1\" class=\"dataframe\">\n",
       "  <thead>\n",
       "    <tr style=\"text-align: right;\">\n",
       "      <th></th>\n",
       "      <th>X</th>\n",
       "      <th>y</th>\n",
       "    </tr>\n",
       "  </thead>\n",
       "  <tbody>\n",
       "    <tr>\n",
       "      <th>0</th>\n",
       "      <td>1</td>\n",
       "      <td>1.0</td>\n",
       "    </tr>\n",
       "    <tr>\n",
       "      <th>1</th>\n",
       "      <td>2</td>\n",
       "      <td>1.2</td>\n",
       "    </tr>\n",
       "    <tr>\n",
       "      <th>2</th>\n",
       "      <td>3</td>\n",
       "      <td>1.4</td>\n",
       "    </tr>\n",
       "    <tr>\n",
       "      <th>3</th>\n",
       "      <td>4</td>\n",
       "      <td>1.1</td>\n",
       "    </tr>\n",
       "    <tr>\n",
       "      <th>4</th>\n",
       "      <td>5</td>\n",
       "      <td>1.0</td>\n",
       "    </tr>\n",
       "  </tbody>\n",
       "</table>\n",
       "</div>"
      ],
      "text/plain": [
       "   X    y\n",
       "0  1  1.0\n",
       "1  2  1.2\n",
       "2  3  1.4\n",
       "3  4  1.1\n",
       "4  5  1.0"
      ]
     },
     "execution_count": 109,
     "metadata": {},
     "output_type": "execute_result"
    }
   ],
   "source": [
    "# Load Data\n",
    "data = pd.DataFrame({\"X\": np.array([1, 2, 3, 4, 5, 6, 7, 8, 9, 10, 11, 12, 13, 14]),\n",
    "                     \"y\": np.array([1, 1.2, 1.4, 1.1, 1.0, 5.5, 6.1, 6.7, 6.4, 6, 5.9, 3, 3.2, 3.1])})\n",
    "data.head()"
   ]
  },
  {
   "cell_type": "code",
   "execution_count": 110,
   "metadata": {},
   "outputs": [
    {
     "data": {
      "image/png": "[encoded data removed]",
      "text/plain": [
       "<Figure size 576x360 with 1 Axes>"
      ]
     },
     "metadata": {
      "needs_background": "light"
     },
     "output_type": "display_data"
    }
   ],
   "source": [
    "# plot data\n",
    "fig, ax = plt.subplots(ncols=1, nrows=1, figsize=(8,5))\n",
    "ax.scatter(data['X'], data['y'])\n",
    "ax.set_xlabel('x')\n",
    "ax.set_ylabel('y')\n",
    "plt.show()"
   ]
  },
  {
   "attachments": {},
   "cell_type": "markdown",
   "metadata": {},
   "source": [
    "Plot ulang data"
   ]
  },
  {
   "cell_type": "code",
   "execution_count": 111,
   "metadata": {},
   "outputs": [],
   "source": [
    "# split data dengan fungsi\n",
    "def split_data(data: pd.DataFrame, threshold: float or int):\n",
    "    '''\n",
    "    Split data into two regions\n",
    "    Return: data_left <dataframe>, data_right <dataframe>\n",
    "    '''\n",
    "    data_left = data[data['X'] < threshold]\n",
    "    data_right = data[data['X'] >= threshold]\n",
    "    return data_left, data_right"
   ]
  },
  {
   "cell_type": "code",
   "execution_count": 112,
   "metadata": {},
   "outputs": [
    {
     "data": {
      "image/png": "[encoded data removed]",
      "text/plain": [
       "<Figure size 576x360 with 1 Axes>"
      ]
     },
     "metadata": {
      "needs_background": "light"
     },
     "output_type": "display_data"
    }
   ],
   "source": [
    "# threshold\n",
    "thre = 1.5\n",
    "# split data\n",
    "data_left, data_right = split_data(data, thre)\n",
    "\n",
    "# plot data\n",
    "fig, ax = plt.subplots(ncols=1, nrows=1, figsize=(8,5))\n",
    "ax.scatter(data_left['X'], data_left['y'], c='r', label = 'left region')\n",
    "ax.scatter(data_right['X'], data_right['y'], c='b', label = 'right region')\n",
    "ax.axvline(x=thre, color='r', linestyle='--')\n",
    "ax.set_xlabel('x')\n",
    "ax.set_ylabel('y')\n",
    "ax.legend()\n",
    "plt.show()"
   ]
  },
  {
   "attachments": {},
   "cell_type": "markdown",
   "metadata": {},
   "source": [
    "Buat prediksi dan RMSE"
   ]
  },
  {
   "cell_type": "code",
   "execution_count": 113,
   "metadata": {},
   "outputs": [],
   "source": [
    "# prediksi untuk regressor adalah rata-rata dari region\n",
    "def calculate_prediction(data):\n",
    "    # yang dihitung adalah data output\n",
    "    pred = np.mean(data['y'])\n",
    "    return pred\n",
    "\n",
    "def calculate_rmse(y_test, y_pred):\n",
    "    # root mean-squared error\n",
    "    err = y_test-y_pred\n",
    "    rmse = (np.mean(err**2))**0.5\n",
    "    return rmse"
   ]
  },
  {
   "cell_type": "code",
   "execution_count": 114,
   "metadata": {},
   "outputs": [],
   "source": [
    "# hitung prediksi region kiri\n",
    "pred_left = calculate_prediction(data_left)\n",
    "\n",
    "# hitung prediksi region kanan\n",
    "pred_right = calculate_prediction(data_right)\n",
    "\n",
    "# hitung rmse region kiri\n",
    "rmse_left = calculate_rmse(data_left['y'], pred_left)\n",
    "\n",
    "# hitung rmse region kanan\n",
    "rmse_right = calculate_rmse(data_right['y'], pred_right)"
   ]
  },
  {
   "cell_type": "code",
   "execution_count": 115,
   "metadata": {},
   "outputs": [
    {
     "name": "stdout",
     "output_type": "stream",
     "text": [
      "Region kiri \n",
      "\t=> prediksi: 1.0\n",
      "\t=> RMSE: 0.0\n",
      "Region kanan \n",
      "\t=> prediksi: 3.892307692307693\n",
      "\t=> RMSE: 2.1773171700906597\n"
     ]
    }
   ],
   "source": [
    "print(f\"Region kiri \\n\\t=> prediksi: {pred_left}\\n\\t=> RMSE: {rmse_left}\")\n",
    "print(f\"Region kanan \\n\\t=> prediksi: {pred_right}\\n\\t=> RMSE: {rmse_right}\")"
   ]
  },
  {
   "cell_type": "code",
   "execution_count": 116,
   "metadata": {},
   "outputs": [],
   "source": [
    "# menggabungkan fungsi-fungsi yang telah dibuat menjadi satu\n",
    "def tree_regressor(data, threshold):\n",
    "    data_left, data_right = split_data(data, threshold)\n",
    "    # hitung prediksi region kiri\n",
    "    pred_left = calculate_prediction(data_left)\n",
    "\n",
    "    # hitung prediksi region kanan\n",
    "    pred_right = calculate_prediction(data_right)\n",
    "\n",
    "    # hitung rmse region kiri\n",
    "    rmse_left = calculate_rmse(data_left['y'], pred_left)\n",
    "\n",
    "    # hitung rmse region kanan\n",
    "    rmse_right = calculate_rmse(data_right['y'], pred_right)\n",
    "\n",
    "    print(f\"Threshold: {threshold}\")\n",
    "    print(f\"Region kiri \\n\\t=> prediksi: {pred_left}\\n\\t=> RMSE: {rmse_left}\")\n",
    "    print(f\"Region kanan \\n\\t=> prediksi: {pred_right}\\n\\t=> RMSE: {rmse_right}\")\n",
    "\n",
    "    return pred_left, rmse_left, pred_right, rmse_right"
   ]
  },
  {
   "cell_type": "code",
   "execution_count": 117,
   "metadata": {},
   "outputs": [],
   "source": [
    "# buat list untuk variasi threshold\n",
    "thre_list = [*range(2, 15, 1)]"
   ]
  },
  {
   "cell_type": "code",
   "execution_count": 118,
   "metadata": {},
   "outputs": [],
   "source": [
    "rmse_left = []\n",
    "rmse_right = []"
   ]
  },
  {
   "cell_type": "code",
   "execution_count": 119,
   "metadata": {},
   "outputs": [
    {
     "name": "stdout",
     "output_type": "stream",
     "text": [
      "=========================\n",
      "Region kiri \n",
      "\t=> prediksi: 1.0\n",
      "\t=> RMSE: 0.0\n",
      "Region kanan \n",
      "\t=> prediksi: 3.892307692307693\n",
      "\t=> RMSE: 2.1773171700906597\n",
      "=========================\n",
      "=========================\n",
      "Region kiri \n",
      "\t=> prediksi: 1.1\n",
      "\t=> RMSE: 0.09999999999999998\n",
      "Region kanan \n",
      "\t=> prediksi: 4.116666666666667\n",
      "\t=> RMSE: 2.116929117587287\n",
      "=========================\n",
      "=========================\n",
      "Region kiri \n",
      "\t=> prediksi: 1.2\n",
      "\t=> RMSE: 0.16329931618554516\n",
      "Region kanan \n",
      "\t=> prediksi: 4.363636363636364\n",
      "\t=> RMSE: 2.0388377826919513\n",
      "=========================\n",
      "=========================\n",
      "Region kiri \n",
      "\t=> prediksi: 1.175\n",
      "\t=> RMSE: 0.14790199457749034\n",
      "Region kanan \n",
      "\t=> prediksi: 4.69\n",
      "\t=> RMSE: 1.844152922075607\n",
      "=========================\n",
      "=========================\n",
      "Region kiri \n",
      "\t=> prediksi: 1.1400000000000001\n",
      "\t=> RMSE: 0.1496662954709576\n",
      "Region kanan \n",
      "\t=> prediksi: 5.1000000000000005\n",
      "\t=> RMSE: 1.4483707321600288\n",
      "=========================\n",
      "=========================\n",
      "Region kiri \n",
      "\t=> prediksi: 1.8666666666666665\n",
      "\t=> RMSE: 1.6306099744846678\n",
      "Region kanan \n",
      "\t=> prediksi: 5.050000000000001\n",
      "\t=> RMSE: 1.5288884851420657\n",
      "=========================\n",
      "=========================\n",
      "Region kiri \n",
      "\t=> prediksi: 2.471428571428571\n",
      "\t=> RMSE: 2.115057774093914\n",
      "Region kanan \n",
      "\t=> prediksi: 4.8999999999999995\n",
      "\t=> RMSE: 1.5784259790780724\n",
      "=========================\n",
      "=========================\n",
      "Region kiri \n",
      "\t=> prediksi: 3.0\n",
      "\t=> RMSE: 2.4228082879171433\n",
      "Region kanan \n",
      "\t=> prediksi: 4.6000000000000005\n",
      "\t=> RMSE: 1.5088627063675035\n",
      "=========================\n",
      "=========================\n",
      "Region kiri \n",
      "\t=> prediksi: 3.3777777777777778\n",
      "\t=> RMSE: 2.5218061330799215\n",
      "Region kanan \n",
      "\t=> prediksi: 4.24\n",
      "\t=> RMSE: 1.3979985693841035\n",
      "=========================\n",
      "=========================\n",
      "Region kiri \n",
      "\t=> prediksi: 3.6399999999999997\n",
      "\t=> RMSE: 2.518412198191551\n",
      "Region kanan \n",
      "\t=> prediksi: 3.8000000000000003\n",
      "\t=> RMSE: 1.214495780149112\n",
      "=========================\n",
      "=========================\n",
      "Region kiri \n",
      "\t=> prediksi: 3.8454545454545452\n",
      "\t=> RMSE: 2.4875558052629736\n",
      "Region kanan \n",
      "\t=> prediksi: 3.1\n",
      "\t=> RMSE: 0.08164965809277268\n",
      "=========================\n",
      "=========================\n",
      "Region kiri \n",
      "\t=> prediksi: 3.775\n",
      "\t=> RMSE: 2.393089007956035\n",
      "Region kanan \n",
      "\t=> prediksi: 3.1500000000000004\n",
      "\t=> RMSE: 0.050000000000000044\n",
      "=========================\n",
      "=========================\n",
      "Region kiri \n",
      "\t=> prediksi: 3.730769230769231\n",
      "\t=> RMSE: 2.3043052066093805\n",
      "Region kanan \n",
      "\t=> prediksi: 3.1\n",
      "\t=> RMSE: 0.0\n",
      "=========================\n"
     ]
    }
   ],
   "source": [
    "for thre in thre_list:\n",
    "    data_left, data_right = split_data(data, thre)\n",
    "\n",
    "    # hitung nilai prediksi\n",
    "    pred_l = calculate_prediction(data_left)\n",
    "    pred_r = calculate_prediction(data_right)\n",
    "\n",
    "    if len(data_left)==0 or len(data_right)==0:\n",
    "        pass\n",
    "    # hitung nilai rmse\n",
    "    rmse_l = calculate_rmse(data_left['y'], pred_l)\n",
    "    rmse_r = calculate_rmse(data_right['y'], pred_r)\n",
    "\n",
    "    rmse_left.append(rmse_l)\n",
    "    rmse_right.append(rmse_r)\n",
    "    print(f\"=\"*25)\n",
    "    print(f\"Region kiri \\n\\t=> prediksi: {pred_l}\\n\\t=> RMSE: {rmse_l}\")\n",
    "    print(f\"Region kanan \\n\\t=> prediksi: {pred_r}\\n\\t=> RMSE: {rmse_r}\")\n",
    "    print(f\"=\"*25)"
   ]
  },
  {
   "cell_type": "code",
   "execution_count": 126,
   "metadata": {},
   "outputs": [],
   "source": [
    "rmse_left = np.array(rmse_left)\n",
    "rmse_right = np.array(rmse_right)\n",
    "rmse_total = rmse_left + rmse_right\n",
    "best_threshold = thre_list[np.argmin(rmse_total)]"
   ]
  },
  {
   "cell_type": "code",
   "execution_count": 127,
   "metadata": {},
   "outputs": [
    {
     "data": {
      "image/png": "[encoded data removed]",
      "text/plain": [
       "<Figure size 720x576 with 1 Axes>"
      ]
     },
     "metadata": {
      "needs_background": "light"
     },
     "output_type": "display_data"
    }
   ],
   "source": [
    "fig, ax = plt.subplots(ncols=1, nrows=1, figsize=(10, 8))\n",
    "\n",
    "ax.plot(thre_list, rmse_left, '--r', label='RMSE left')\n",
    "ax.plot(thre_list, rmse_right, '--b', label='RMSE right')\n",
    "ax.plot(thre_list, rmse_total, '--g', label='RMSE total')\n",
    "ax.legend()\n",
    "ax.axvline(best_threshold)\n",
    "ax.set_xlabel('threshold')\n",
    "ax.set_ylabel('RMSE')\n",
    "plt.show()"
   ]
  },
  {
   "attachments": {},
   "cell_type": "markdown",
   "metadata": {},
   "source": [
    "berdasarkan eksperimen di atas, threshold terbaik adalah di titik 6"
   ]
  },
  {
   "cell_type": "code",
   "execution_count": 128,
   "metadata": {},
   "outputs": [
    {
     "data": {
      "image/png": "[encoded data removed]",
      "text/plain": [
       "<Figure size 576x360 with 1 Axes>"
      ]
     },
     "metadata": {
      "needs_background": "light"
     },
     "output_type": "display_data"
    }
   ],
   "source": [
    "# plot kembali data beserta boundary yang telah kita dapat melalui perhitungan\n",
    "# threshold\n",
    "thre = best_threshold\n",
    "# split data\n",
    "data_left, data_right = split_data(data, thre)\n",
    "\n",
    "# plot data\n",
    "fig, ax = plt.subplots(ncols=1, nrows=1, figsize=(8,5))\n",
    "ax.scatter(data_left['X'], data_left['y'], c='r', label = 'left region')\n",
    "ax.scatter(data_right['X'], data_right['y'], c='b', label = 'right region')\n",
    "ax.axvline(x=thre, color='r', linestyle='--')\n",
    "ax.set_xlabel('x')\n",
    "ax.set_ylabel('y')\n",
    "ax.legend()\n",
    "plt.show()"
   ]
  },
  {
   "attachments": {},
   "cell_type": "markdown",
   "metadata": {},
   "source": [
    "bagi lagi data region kanan menjadi dua bagian"
   ]
  },
  {
   "cell_type": "code",
   "execution_count": 136,
   "metadata": {},
   "outputs": [],
   "source": [
    "# fungsi untuk menentukan threshold terbaik\n",
    "def create_tree(data):\n",
    "\n",
    "    # buat range threshold yang ingin dicek\n",
    "    thre_list = [*range(min(data['X']+1), max(data['X']+1), 1)]\n",
    "    rmse_total = []\n",
    "    \n",
    "    for thre in thre_list:\n",
    "        # split data\n",
    "        data_left, data_right = split_data(data, thre)\n",
    "\n",
    "        # hitung nilai prediksi\n",
    "        pred_l = calculate_prediction(data_left)\n",
    "        pred_r = calculate_prediction(data_right)\n",
    "\n",
    "        if len(data_left)==0 or len(data_right)==0:\n",
    "            pass\n",
    "\n",
    "        rmse_l = calculate_rmse(data_left['y'], pred_l)\n",
    "        rmse_r = calculate_rmse(data_right['y'], pred_r)\n",
    "\n",
    "        rmse_total.append(rmse_l + rmse_r)\n",
    "\n",
    "    # tentukan threshold terbaik berdasarkan rmse-nya\n",
    "    best_thre = thre_list[np.argmin(rmse_total)]\n",
    "    best_rmse = min(rmse_total)\n",
    "    data_left, data_right = split_data(data, best_thre)\n",
    "\n",
    "    return best_thre, best_rmse, data_left, data_right"
   ]
  },
  {
   "cell_type": "code",
   "execution_count": 137,
   "metadata": {},
   "outputs": [],
   "source": [
    "bthre, brmse, data_left, data_right = create_tree(data_right)"
   ]
  },
  {
   "cell_type": "code",
   "execution_count": 138,
   "metadata": {},
   "outputs": [
    {
     "data": {
      "text/plain": [
       "(12,\n",
       " 0.460243547812791,\n",
       "      X    y\n",
       " 5    6  5.5\n",
       " 6    7  6.1\n",
       " 7    8  6.7\n",
       " 8    9  6.4\n",
       " 9   10  6.0\n",
       " 10  11  5.9,\n",
       "      X    y\n",
       " 11  12  3.0\n",
       " 12  13  3.2\n",
       " 13  14  3.1)"
      ]
     },
     "execution_count": 138,
     "metadata": {},
     "output_type": "execute_result"
    }
   ],
   "source": [
    "bthre, brmse, data_left, data_right"
   ]
  },
  {
   "cell_type": "code",
   "execution_count": 143,
   "metadata": {},
   "outputs": [
    {
     "data": {
      "image/png": "[encoded data removed]",
      "text/plain": [
       "<Figure size 576x360 with 1 Axes>"
      ]
     },
     "metadata": {
      "needs_background": "light"
     },
     "output_type": "display_data"
    }
   ],
   "source": [
    "# plot kembali data beserta boundary yang telah kita dapat melalui perhitungan\n",
    "# threshold\n",
    "thre = best_threshold\n",
    "# split data\n",
    "data_left, data_right = split_data(data, thre)\n",
    "_, data_most_right = split_data(data_right, bthre)\n",
    "\n",
    "# plot data\n",
    "fig, ax = plt.subplots(ncols=1, nrows=1, figsize=(8,5))\n",
    "ax.scatter(data_left['X'], data_left['y'], c='r', label = 'region 1')\n",
    "ax.scatter(data_right['X'], data_right['y'], c='b', label = 'region 2')\n",
    "ax.scatter(data_most_right['X'], data_most_right['y'], c='g', label = 'region 3')\n",
    "ax.axvline(x=thre, color='r', linestyle='--')\n",
    "ax.axvline(x=bthre, color='r', linestyle='--')\n",
    "ax.set_xlabel('x')\n",
    "ax.set_ylabel('y')\n",
    "ax.legend()\n",
    "plt.show()"
   ]
  },
  {
   "cell_type": "code",
   "execution_count": 141,
   "metadata": {},
   "outputs": [],
   "source": [
    "# TODO: coba dengan sklearn"
   ]
  }
 ],
 "metadata": {
  "kernelspec": {
   "display_name": "Python 3",
   "language": "python",
   "name": "python3"
  },
  "language_info": {
   "codemirror_mode": {
    "name": "ipython",
    "version": 3
   },
   "file_extension": ".py",
   "mimetype": "text/x-python",
   "name": "python",
   "nbconvert_exporter": "python",
   "pygments_lexer": "ipython3",
   "version": "3.10.7"
  },
  "orig_nbformat": 4,
  "vscode": {
   "interpreter": {
    "hash": "b56bdd541f4dd53dc090db587cebbea2780bf99bf2bbd1c72f453673f286369f"
   }
  }
 },
 "nbformat": 4,
 "nbformat_minor": 2
}
