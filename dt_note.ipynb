{
 "cells": [
  {
   "attachments": {},
   "cell_type": "markdown",
   "metadata": {},
   "source": [
    "# Decision Tree From Scratch"
   ]
  },
  {
   "cell_type": "code",
   "execution_count": 1,
   "metadata": {},
   "outputs": [],
   "source": [
    "import pandas as pd\n",
    "import matplotlib.pyplot as plt\n",
    "import seaborn as sns\n",
    "import numpy as np"
   ]
  },
  {
   "attachments": {},
   "cell_type": "markdown",
   "metadata": {},
   "source": [
    "## Decision Tree Regressor"
   ]
  },
  {
   "cell_type": "code",
   "execution_count": 2,
   "metadata": {},
   "outputs": [
    {
     "data": {
      "text/html": [
       "<div>\n",
       "<style scoped>\n",
       "    .dataframe tbody tr th:only-of-type {\n",
       "        vertical-align: middle;\n",
       "    }\n",
       "\n",
       "    .dataframe tbody tr th {\n",
       "        vertical-align: top;\n",
       "    }\n",
       "\n",
       "    .dataframe thead th {\n",
       "        text-align: right;\n",
       "    }\n",
       "</style>\n",
       "<table border=\"1\" class=\"dataframe\">\n",
       "  <thead>\n",
       "    <tr style=\"text-align: right;\">\n",
       "      <th></th>\n",
       "      <th>X</th>\n",
       "      <th>y</th>\n",
       "    </tr>\n",
       "  </thead>\n",
       "  <tbody>\n",
       "    <tr>\n",
       "      <th>0</th>\n",
       "      <td>1</td>\n",
       "      <td>1.0</td>\n",
       "    </tr>\n",
       "    <tr>\n",
       "      <th>1</th>\n",
       "      <td>2</td>\n",
       "      <td>1.2</td>\n",
       "    </tr>\n",
       "    <tr>\n",
       "      <th>2</th>\n",
       "      <td>3</td>\n",
       "      <td>1.4</td>\n",
       "    </tr>\n",
       "    <tr>\n",
       "      <th>3</th>\n",
       "      <td>4</td>\n",
       "      <td>1.1</td>\n",
       "    </tr>\n",
       "    <tr>\n",
       "      <th>4</th>\n",
       "      <td>5</td>\n",
       "      <td>1.0</td>\n",
       "    </tr>\n",
       "  </tbody>\n",
       "</table>\n",
       "</div>"
      ],
      "text/plain": [
       "   X    y\n",
       "0  1  1.0\n",
       "1  2  1.2\n",
       "2  3  1.4\n",
       "3  4  1.1\n",
       "4  5  1.0"
      ]
     },
     "execution_count": 2,
     "metadata": {},
     "output_type": "execute_result"
    }
   ],
   "source": [
    "# Load Data\n",
    "data = pd.DataFrame({\"X\": np.array([1, 2, 3, 4, 5, 6, 7, 8, 9, 10, 11, 12, 13, 14]),\n",
    "                     \"y\": np.array([1, 1.2, 1.4, 1.1, 1.0, 5.5, 6.1, 6.7, 6.4, 6, 5.9, 3, 3.2, 3.1])})\n",
    "data.head()"
   ]
  },
  {
   "cell_type": "code",
   "execution_count": 3,
   "metadata": {},
   "outputs": [
    {
     "data": {
      "image/png": "[encoded data removed]",
      "text/plain": [
       "<Figure size 576x360 with 1 Axes>"
      ]
     },
     "metadata": {
      "needs_background": "light"
     },
     "output_type": "display_data"
    }
   ],
   "source": [
    "# plot data\n",
    "fig, ax = plt.subplots(ncols=1, nrows=1, figsize=(8,5))\n",
    "ax.scatter(data['X'], data['y'])\n",
    "ax.set_xlabel('x')\n",
    "ax.set_ylabel('y')\n",
    "plt.show()"
   ]
  },
  {
   "attachments": {},
   "cell_type": "markdown",
   "metadata": {},
   "source": [
    "Plot ulang data"
   ]
  },
  {
   "cell_type": "code",
   "execution_count": 4,
   "metadata": {},
   "outputs": [],
   "source": [
    "# split data dengan fungsi\n",
    "def split_data(data: pd.DataFrame, threshold: float or int):\n",
    "    '''\n",
    "    Split data into two regions\n",
    "    Return: data_left <dataframe>, data_right <dataframe>\n",
    "    '''\n",
    "    data_left = data[data['X'] < threshold]\n",
    "    data_right = data[data['X'] >= threshold]\n",
    "    return data_left, data_right"
   ]
  },
  {
   "cell_type": "code",
   "execution_count": 5,
   "metadata": {},
   "outputs": [
    {
     "data": {
      "image/png": "[encoded data removed]",
      "text/plain": [
       "<Figure size 576x360 with 1 Axes>"
      ]
     },
     "metadata": {
      "needs_background": "light"
     },
     "output_type": "display_data"
    }
   ],
   "source": [
    "# threshold\n",
    "thre = 1.5\n",
    "# split data\n",
    "data_left, data_right = split_data(data, thre)\n",
    "\n",
    "# plot data\n",
    "fig, ax = plt.subplots(ncols=1, nrows=1, figsize=(8,5))\n",
    "ax.scatter(data_left['X'], data_left['y'], c='r', label = 'left region')\n",
    "ax.scatter(data_right['X'], data_right['y'], c='b', label = 'right region')\n",
    "ax.axvline(x=thre, color='r', linestyle='--')\n",
    "ax.set_xlabel('x')\n",
    "ax.set_ylabel('y')\n",
    "ax.legend()\n",
    "plt.show()"
   ]
  },
  {
   "attachments": {},
   "cell_type": "markdown",
   "metadata": {},
   "source": [
    "Buat prediksi dan RMSE"
   ]
  },
  {
   "cell_type": "code",
   "execution_count": 6,
   "metadata": {},
   "outputs": [],
   "source": [
    "# prediksi untuk regressor adalah rata-rata dari region\n",
    "def calculate_prediction(data):\n",
    "    # yang dihitung adalah data output\n",
    "    pred = np.mean(data['y'])\n",
    "    return pred\n",
    "\n",
    "def calculate_rmse(y_test, y_pred):\n",
    "    # root mean-squared error\n",
    "    err = y_test-y_pred\n",
    "    rmse = (np.mean(err**2))**0.5\n",
    "    return rmse"
   ]
  },
  {
   "cell_type": "code",
   "execution_count": 11,
   "metadata": {},
   "outputs": [],
   "source": [
    "# hitung prediksi region kiri\n",
    "pred_left = calculate_prediction(data_left)\n",
    "\n",
    "# hitung prediksi region kanan\n",
    "pred_right = calculate_prediction(data_right)\n",
    "\n",
    "# hitung rmse region kiri\n",
    "rmse_left = calculate_rmse(data_left['y'], pred_left)\n",
    "\n",
    "# hitung rmse region kanan\n",
    "rmse_right = calculate_rmse(data_right['y'], pred_right)"
   ]
  },
  {
   "cell_type": "code",
   "execution_count": 12,
   "metadata": {},
   "outputs": [
    {
     "name": "stdout",
     "output_type": "stream",
     "text": [
      "Region kiri \n",
      "\t=> prediksi: 1.0\n",
      "\t=> RMSE: 0.0\n",
      "Region kanan \n",
      "\t=> prediksi: 3.892307692307693\n",
      "\t=> RMSE: 2.1773171700906597\n"
     ]
    }
   ],
   "source": [
    "print(f\"Region kiri \\n\\t=> prediksi: {pred_left}\\n\\t=> RMSE: {rmse_left}\")\n",
    "print(f\"Region kanan \\n\\t=> prediksi: {pred_right}\\n\\t=> RMSE: {rmse_right}\")"
   ]
  },
  {
   "cell_type": "code",
   "execution_count": 31,
   "metadata": {},
   "outputs": [],
   "source": [
    "# menggabungkan fungsi-fungsi yang telah dibuat menjadi satu\n",
    "def tree_regressor(data, threshold):\n",
    "    data_left, data_right = split_data(data, threshold)\n",
    "    # hitung prediksi region kiri\n",
    "    pred_left = calculate_prediction(data_left)\n",
    "\n",
    "    # hitung prediksi region kanan\n",
    "    pred_right = calculate_prediction(data_right)\n",
    "\n",
    "    # hitung rmse region kiri\n",
    "    rmse_left = calculate_rmse(data_left['y'], pred_left)\n",
    "\n",
    "    # hitung rmse region kanan\n",
    "    rmse_right = calculate_rmse(data_right['y'], pred_right)\n",
    "\n",
    "    print(f\"Threshold: {threshold}\")\n",
    "    print(f\"Region kiri \\n\\t=> prediksi: {pred_left}\\n\\t=> RMSE: {rmse_left}\")\n",
    "    print(f\"Region kanan \\n\\t=> prediksi: {pred_right}\\n\\t=> RMSE: {rmse_right}\")\n",
    "\n",
    "    return pred_left, rmse_left, pred_right, rmse_right"
   ]
  },
  {
   "cell_type": "code",
   "execution_count": 26,
   "metadata": {},
   "outputs": [],
   "source": [
    "# buat list untuk variasi threshold\n",
    "thre_list = [*range(2, 15, 1)]"
   ]
  },
  {
   "cell_type": "code",
   "execution_count": 32,
   "metadata": {},
   "outputs": [
    {
     "name": "stdout",
     "output_type": "stream",
     "text": [
      "====================\n",
      "Threshold: 2\n",
      "Region kiri \n",
      "\t=> prediksi: 1.0\n",
      "\t=> RMSE: 0.0\n",
      "Region kanan \n",
      "\t=> prediksi: 3.892307692307693\n",
      "\t=> RMSE: 2.1773171700906597\n",
      "====================\n",
      "====================\n",
      "Threshold: 3\n",
      "Region kiri \n",
      "\t=> prediksi: 1.1\n",
      "\t=> RMSE: 0.09999999999999998\n",
      "Region kanan \n",
      "\t=> prediksi: 4.116666666666667\n",
      "\t=> RMSE: 2.116929117587287\n",
      "====================\n",
      "====================\n",
      "Threshold: 4\n",
      "Region kiri \n",
      "\t=> prediksi: 1.2\n",
      "\t=> RMSE: 0.16329931618554516\n",
      "Region kanan \n",
      "\t=> prediksi: 4.363636363636364\n",
      "\t=> RMSE: 2.0388377826919513\n",
      "====================\n",
      "====================\n",
      "Threshold: 5\n",
      "Region kiri \n",
      "\t=> prediksi: 1.175\n",
      "\t=> RMSE: 0.14790199457749034\n",
      "Region kanan \n",
      "\t=> prediksi: 4.69\n",
      "\t=> RMSE: 1.844152922075607\n",
      "====================\n",
      "====================\n",
      "Threshold: 6\n",
      "Region kiri \n",
      "\t=> prediksi: 1.1400000000000001\n",
      "\t=> RMSE: 0.1496662954709576\n",
      "Region kanan \n",
      "\t=> prediksi: 5.1000000000000005\n",
      "\t=> RMSE: 1.4483707321600288\n",
      "====================\n",
      "====================\n",
      "Threshold: 7\n",
      "Region kiri \n",
      "\t=> prediksi: 1.8666666666666665\n",
      "\t=> RMSE: 1.6306099744846678\n",
      "Region kanan \n",
      "\t=> prediksi: 5.050000000000001\n",
      "\t=> RMSE: 1.5288884851420657\n",
      "====================\n",
      "====================\n",
      "Threshold: 8\n",
      "Region kiri \n",
      "\t=> prediksi: 2.471428571428571\n",
      "\t=> RMSE: 2.115057774093914\n",
      "Region kanan \n",
      "\t=> prediksi: 4.8999999999999995\n",
      "\t=> RMSE: 1.5784259790780724\n",
      "====================\n",
      "====================\n",
      "Threshold: 9\n",
      "Region kiri \n",
      "\t=> prediksi: 3.0\n",
      "\t=> RMSE: 2.4228082879171433\n",
      "Region kanan \n",
      "\t=> prediksi: 4.6000000000000005\n",
      "\t=> RMSE: 1.5088627063675035\n",
      "====================\n",
      "====================\n",
      "Threshold: 10\n",
      "Region kiri \n",
      "\t=> prediksi: 3.3777777777777778\n",
      "\t=> RMSE: 2.5218061330799215\n",
      "Region kanan \n",
      "\t=> prediksi: 4.24\n",
      "\t=> RMSE: 1.3979985693841035\n",
      "====================\n",
      "====================\n",
      "Threshold: 11\n",
      "Region kiri \n",
      "\t=> prediksi: 3.6399999999999997\n",
      "\t=> RMSE: 2.518412198191551\n",
      "Region kanan \n",
      "\t=> prediksi: 3.8000000000000003\n",
      "\t=> RMSE: 1.214495780149112\n",
      "====================\n",
      "====================\n",
      "Threshold: 12\n",
      "Region kiri \n",
      "\t=> prediksi: 3.8454545454545452\n",
      "\t=> RMSE: 2.4875558052629736\n",
      "Region kanan \n",
      "\t=> prediksi: 3.1\n",
      "\t=> RMSE: 0.08164965809277268\n",
      "====================\n",
      "====================\n",
      "Threshold: 13\n",
      "Region kiri \n",
      "\t=> prediksi: 3.775\n",
      "\t=> RMSE: 2.393089007956035\n",
      "Region kanan \n",
      "\t=> prediksi: 3.1500000000000004\n",
      "\t=> RMSE: 0.050000000000000044\n",
      "====================\n",
      "====================\n",
      "Threshold: 14\n",
      "Region kiri \n",
      "\t=> prediksi: 3.730769230769231\n",
      "\t=> RMSE: 2.3043052066093805\n",
      "Region kanan \n",
      "\t=> prediksi: 3.1\n",
      "\t=> RMSE: 0.0\n",
      "====================\n"
     ]
    }
   ],
   "source": [
    "# buat list untuk menyimpan hasil prediksi dan rmse\n",
    "# rmse\n",
    "rmse_left = []\n",
    "rmse_right = []\n",
    "pred_left_right = []\n",
    "for thre in thre_list:\n",
    "    print(\"=\"*20)\n",
    "    result = tree_regressor(data, thre)\n",
    "    \n",
    "    rmse_left.append(result[1])\n",
    "    rmse_right.append(result[3])\n",
    "\n",
    "    pred_left_right.append((result[0], result[2]))\n",
    "    print(\"=\"*20)"
   ]
  },
  {
   "cell_type": "code",
   "execution_count": 39,
   "metadata": {},
   "outputs": [
    {
     "data": {
      "image/png": "[encoded data removed]",
      "text/plain": [
       "<Figure size 720x576 with 1 Axes>"
      ]
     },
     "metadata": {
      "needs_background": "light"
     },
     "output_type": "display_data"
    }
   ],
   "source": [
    "# buat plot untuk rmse\n",
    "thre_list = np.array(thre_list)\n",
    "rmse_left = np.array(rmse_left)\n",
    "rmse_right = np.array(rmse_right)\n",
    "rmse_total = rmse_left + rmse_right\n",
    "best_threshold = rmse_total[np.argmin(rmse_total[2:])]\n",
    "\n",
    "\n",
    "fig, ax = plt.subplots(ncols=1, nrows=1, figsize=(10, 8))\n",
    "\n",
    "ax.plot(thre_list, rmse_left, '--r', label='RMSE left')\n",
    "ax.plot(thre_list, rmse_right, '--b', label='RMSE right')\n",
    "ax.plot(thre_list, rmse_total, '--g', label='RMSE total')\n",
    "ax.legend()\n",
    "ax.set_xlabel('threshold')\n",
    "ax.set_ylabel('RMSE')\n",
    "plt.show()"
   ]
  },
  {
   "cell_type": "code",
   "execution_count": 43,
   "metadata": {},
   "outputs": [
    {
     "data": {
      "text/plain": [
       "array([4.58648635, 5.42280829, 5.89958391, 6.1584122 , 6.33301035,\n",
       "       6.16808901, 6.03507444])"
      ]
     },
     "execution_count": 43,
     "metadata": {},
     "output_type": "execute_result"
    }
   ],
   "source": [
    "rmse_total[6:]"
   ]
  }
 ],
 "metadata": {
  "kernelspec": {
   "display_name": "Python 3",
   "language": "python",
   "name": "python3"
  },
  "language_info": {
   "codemirror_mode": {
    "name": "ipython",
    "version": 3
   },
   "file_extension": ".py",
   "mimetype": "text/x-python",
   "name": "python",
   "nbconvert_exporter": "python",
   "pygments_lexer": "ipython3",
   "version": "3.10.7"
  },
  "orig_nbformat": 4,
  "vscode": {
   "interpreter": {
    "hash": "b56bdd541f4dd53dc090db587cebbea2780bf99bf2bbd1c72f453673f286369f"
   }
  }
 },
 "nbformat": 4,
 "nbformat_minor": 2
}
